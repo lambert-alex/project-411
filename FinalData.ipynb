{
 "cells": [
  {
   "cell_type": "code",
   "execution_count": 1,
   "id": "d9acb089-ecad-4c68-aa17-3f80736380ab",
   "metadata": {},
   "outputs": [],
   "source": [
    "import pandas as pd\n",
    "import geopandas as gpd\n",
    "import numpy as np\n",
    "import matplotlib.pyplot as plt\n",
    "import matplotlib.colors as mcolors\n",
    "import math\n",
    "import folium\n",
    "from folium import GeoJson, LinearColormap\n",
    "from folium.features import DivIcon\n",
    "from folium.plugins import HeatMap\n",
    "import warnings\n",
    "import branca\n",
    "\n",
    "warnings.filterwarnings('ignore')"
   ]
  },
  {
   "cell_type": "code",
   "execution_count": 2,
   "id": "9e6e2190-0aa2-49d9-abfb-907155e6f479",
   "metadata": {},
   "outputs": [
    {
     "name": "stdout",
     "output_type": "stream",
     "text": [
      "check_date\n",
      "survey:date\n"
     ]
    }
   ],
   "source": [
    "# try and reduce the amount of times you run this itll take forever.\n",
    "##### only need this cell if you are wanting to check against other map features see bash script to decide what features you want\n",
    "gdf = gpd.read_file('.\\output.geojson')\n",
    "boundaries = gpd.read_file('.\\\\boundaries.geojson')\n",
    "\n",
    "# manually fix names set() ^ set()\n",
    "boundaries.loc[boundaries.name == 'Juan de Fuca Electoral Area', 'name'] = 'Juan de Fuca'\n",
    "boundaries.loc[boundaries.name == 'Salt Spring Island Electoral Area', 'name'] = 'Salt Spring Island'\n",
    "boundaries.loc[boundaries.name == 'Southern Gulf Islands Electoral Area', 'name'] = 'Southern Gulf Islands'\n",
    "\n",
    "def remove_times():\n",
    "    # use for error in folio TypeError: Object of type Timestamp is not JSON serializable\n",
    "    drop_ls = []\n",
    "    for c in gdf.columns:\n",
    "        if (\"time\" in c or \"date\" in c or \"hour\" in c):\n",
    "            print(c)\n",
    "            drop_ls.append(c)\n",
    "\n",
    "    return gdf.drop(drop_ls, axis=1)\n",
    "\n",
    "gdf = remove_times() # only use if you have an error with folium Geo.Json\n"
   ]
  },
  {
   "cell_type": "code",
   "execution_count": 3,
   "id": "8bde4f12-9148-495d-bd2d-c996c15d813f",
   "metadata": {},
   "outputs": [],
   "source": [
    "startDt = pd.read_csv(\".\\May2023.csv\")\n",
    "endDt = pd.read_csv(\".\\May2024.csv\")"
   ]
  },
  {
   "cell_type": "code",
   "execution_count": 4,
   "id": "89feeae8-b979-467f-99e6-34d829bdb947",
   "metadata": {},
   "outputs": [],
   "source": [
    "# get the center of all unique munis\n",
    "\n",
    "def get_weight(group):\n",
    "    val = startDt.neighbourhood_group.value_counts()[group] - endDt.neighbourhood_group.value_counts()[group]\n",
    "    return val / max(startDt.neighbourhood_group.value_counts()[group], endDt.neighbourhood_group.value_counts()[group])\n",
    "\n",
    "def get_center_loc(group, id=None, res_dic=None):\n",
    "    # group is a data frame\n",
    "    # source http://www.geomidpoint.com/example.html\n",
    "    # gets the center lat lng\n",
    "    # assuming the earth is perfectly round\n",
    "    rads_lat = np.radians(group.latitude)\n",
    "    rads_lon = np.radians(group.longitude)\n",
    "    \n",
    "    # Convert lat/lon (radians) to Cartesian coordinates for each location.\n",
    "    X = np.cos(rads_lat) * np.cos(rads_lon)\n",
    "    Y = np.cos(rads_lat) * np.sin(rads_lon)\n",
    "    Z = np.sin(rads_lat)\n",
    "\n",
    "    #find average x, y, z coords\n",
    "    x = X.mean()\n",
    "    y = Y.mean()\n",
    "    z = Z.mean()\n",
    "\n",
    "    # Convert average x, y, z coordinate to latitude and longitude.\n",
    "    lng = math.atan2(y, x)\n",
    "    hyp = np.sqrt(x*x + y*y)\n",
    "    lat = math.atan2(z, hyp)\n",
    "    if res_dic != None:\n",
    "        res_dic[id] = [np.degrees(lat), np.degrees(lng), len(group.id.tolist())-endDt.neighbourhood_group.value_counts()[id], get_weight(id)]\n",
    "    else:\n",
    "        return (np.degrees(lat), np.degrees(lng),)\n",
    "\n",
    "\n",
    "\n",
    "                          \n",
    "result_start = {}\n",
    "startDt.groupby(['neighbourhood_group']).apply(lambda group: get_center_loc(group=group, id=group.name, res_dic=result_start))\n",
    "\n",
    "\n",
    "startDt['location'] = startDt.apply(lambda row: [row.latitude, row.longitude, get_weight(row.neighbourhood_group)], axis=1)\n",
    "endDt['location'] = endDt.apply(lambda row: [row['latitude'], row['longitude'], get_weight(row.neighbourhood_group)], axis=1)\n"
   ]
  },
  {
   "cell_type": "code",
   "execution_count": 5,
   "id": "8e5deff6-569f-499a-8b0c-022767845101",
   "metadata": {},
   "outputs": [],
   "source": [
    "# break up all the startDt data into single owners and multi owners\n",
    "start_count = startDt.host_id.value_counts()\n",
    "multi_start = startDt[startDt.host_id.isin(start_count.index[start_count.gt(1)])]\n",
    "single_start = startDt[startDt.host_id.isin(start_count.index[start_count.lt(2)])]\n",
    "\n",
    "# break up all endDt data into multi owners and single owners\n",
    "end_count = endDt.host_id.value_counts()\n",
    "multi_end = endDt[endDt.host_id.isin(end_count.index[end_count.gt(1)])]\n",
    "single_end = endDt[endDt.host_id.isin(end_count.index[end_count.lt(2)])]"
   ]
  },
  {
   "cell_type": "code",
   "execution_count": 6,
   "id": "f161c597-b93d-4f49-873e-2c24fd0ec4b6",
   "metadata": {},
   "outputs": [],
   "source": [
    "# get mean price grouped by host_id\n",
    "# values tracking multi_start, multi_end, single_start, single_end, singleDt, endDt\n",
    "multi_start['mean_price'] = multi_start.groupby(['host_id']).price.transform('mean')\n",
    "multi_end['mean_price'] = multi_end.groupby(['host_id']).price.transform('mean')"
   ]
  },
  {
   "cell_type": "code",
   "execution_count": 7,
   "id": "b4d54140-df8b-4b8e-9f22-f811fd6e3b21",
   "metadata": {},
   "outputs": [],
   "source": [
    "    \n",
    "# get real center for group listings\n",
    "# this function could be cleaned up\n",
    "def get_group_center(group, center):\n",
    "    i = 0\n",
    "    for index, row in group.iterrows():\n",
    "        if i == 0:\n",
    "            closest = (row.latitude, row.longitude)\n",
    "            i += 1\n",
    "        if abs(row.latitude - center[row.host_name][0] + row.longitude - center[row.host_name][1]) < abs(closest[0]-center[row.host_name][0] + closest[1]-center[row.host_name][1]):\n",
    "            closest = [row.latitude, row.longitude]\n",
    "    return closest\n",
    "\n",
    "# find closest to center listing\n",
    "def find_center_listing(df):\n",
    "    center_listing = {}\n",
    "    center = df.groupby(['host_name']).apply(get_center_loc)\n",
    "    for host in df.host_name.unique():\n",
    "        center_listing[host] = get_group_center(df[df.host_name == host], center)\n",
    "    \n",
    "    return center_listing\n",
    "\n",
    "multi_start_centers = find_center_listing(multi_start)\n",
    "multi_end_centers = find_center_listing(multi_end)\n",
    "\n",
    "\n"
   ]
  },
  {
   "cell_type": "code",
   "execution_count": 80,
   "id": "771512ef-e2e0-4ceb-8e8b-1c2af516a881",
   "metadata": {},
   "outputs": [
    {
     "data": {
      "text/plain": [
       "<folium.map.LayerControl at 0x1f3ec36e890>"
      ]
     },
     "execution_count": 80,
     "metadata": {},
     "output_type": "execute_result"
    }
   ],
   "source": [
    "map = folium.Map(location=get_center_loc(startDt), prefer_canvas=True, tiles=\"cartodb positron\", zoom_start=9)\n",
    "\n",
    "# create layers\n",
    "start_group = folium.FeatureGroup(name=\"May 2022 Home •---shared-owner---• Home\", control=True, show=False).add_to(map)\n",
    "end_group = folium.FeatureGroup(name=\"May 2023 Home •---shared-owner---• Home\", control=True, show=False).add_to(map)\n",
    "heat_group =folium.FeatureGroup(name=\"% of airbnb change May 2022 to May 2023\", control=True, show=False).add_to(map)\n",
    "\n",
    "folium.LayerControl(position='bottomleft', collaped=False).add_to(map)"
   ]
  },
  {
   "cell_type": "code",
   "execution_count": 81,
   "id": "35104209-420a-4fe1-94ea-b3c8fc59db61",
   "metadata": {},
   "outputs": [
    {
     "data": {
      "text/plain": [
       "<folium.features.GeoJson at 0x1f3e66b0ed0>"
      ]
     },
     "execution_count": 81,
     "metadata": {},
     "output_type": "execute_result"
    }
   ],
   "source": [
    "# gradient map section\n",
    "# normalize weights this section is a mess and needs to be optimized\n",
    "muni_weight = {}\n",
    "for k, v in result_start.items():\n",
    "    muni_weight[k] = v[3]\n",
    "\n",
    "#### correct names here\n",
    "muni_df = gpd.GeoDataFrame(list(muni_weight.items()), columns=['name','weight'])\n",
    "geo_data = boundaries.merge(muni_df, on='name', how='left')\n",
    "\n",
    "\n",
    "def weight_to_color(weight, vmin, vmax):\n",
    "    cmap = plt.get_cmap('coolwarm')\n",
    "    norm = mcolors.Normalize(vmin=vmin, vmax=vmax)\n",
    "    rgba = cmap(norm(weight))\n",
    "    return mcolors.to_hex(rgba)\n",
    "\n",
    "# Determine the min and max weights\n",
    "min_weight = geo_data['weight'].min()\n",
    "max_weight = geo_data['weight'].max()\n",
    "\n",
    "\n",
    "# Add GeoJson layer with popups and color mapping\n",
    "folium.GeoJson(\n",
    "    geo_data,\n",
    "    style_function=lambda feature: {\n",
    "        'fillColor': weight_to_color(feature['properties']['weight'], min_weight, max_weight),\n",
    "        'color': 'black',\n",
    "        'weight': 0.5,\n",
    "        'dashArray': '5, 5'\n",
    "    }\n",
    ").add_to(heat_group)"
   ]
  },
  {
   "cell_type": "code",
   "execution_count": 82,
   "id": "5308ce2f-d6ef-4d02-a25d-a09212558cd2",
   "metadata": {},
   "outputs": [],
   "source": [
    "# making the lines for the connections between mulit owners\n",
    "def apply_lines(x, color, group, counts, start, opacity):\n",
    "    # apply lines is used for both end and start groups however we keep the same centers\n",
    "    if (x.host_name in multi_end_centers):\n",
    "        folium.PolyLine(\n",
    "            locations=[multi_end_centers[x.host_name],[x.latitude, x.longitude]],\n",
    "            popup=f'Owner {x.host_name} Mean value per night ${x.mean_price:.2f} total properties {counts[x.host_name]}',\n",
    "            color=color,\n",
    "            weight=1,\n",
    "            opacity=opacity\n",
    "        ).add_to(group) \n",
    "    else:\n",
    "        folium.PolyLine(\n",
    "            locations=[multi_start_centers[x.host_name],[x.latitude, x.longitude]],\n",
    "            color=color,\n",
    "            popup=f'Owner {x.host_name} Mean value per night ${x.mean_price:.2f} total properties {counts[x.host_name]}',\n",
    "            weight=1,\n",
    "            opacity=opacity\n",
    "        ).add_to(group),"
   ]
  },
  {
   "cell_type": "code",
   "execution_count": 83,
   "id": "75606c71-c2ba-421e-97ef-b3b677eefc43",
   "metadata": {},
   "outputs": [
    {
     "data": {
      "text/plain": [
       "0       None\n",
       "2       None\n",
       "4       None\n",
       "7       None\n",
       "9       None\n",
       "        ... \n",
       "4535    None\n",
       "4536    None\n",
       "4537    None\n",
       "4538    None\n",
       "4540    None\n",
       "Length: 2207, dtype: object"
      ]
     },
     "execution_count": 83,
     "metadata": {},
     "output_type": "execute_result"
    }
   ],
   "source": [
    "multi_start.apply(lambda x: apply_lines(x, \"red\", start_group, multi_start.host_name.value_counts(), True, 0.5), axis=1)"
   ]
  },
  {
   "cell_type": "code",
   "execution_count": 84,
   "id": "f48826ac-5261-430e-b777-4810379216f2",
   "metadata": {},
   "outputs": [
    {
     "data": {
      "text/plain": [
       "1       None\n",
       "2       None\n",
       "5       None\n",
       "7       None\n",
       "8       None\n",
       "        ... \n",
       "3973    None\n",
       "3974    None\n",
       "3975    None\n",
       "3978    None\n",
       "3979    None\n",
       "Length: 1751, dtype: object"
      ]
     },
     "execution_count": 84,
     "metadata": {},
     "output_type": "execute_result"
    }
   ],
   "source": [
    "multi_end.apply(lambda x: apply_lines(x, \"blue\", end_group, multi_end.host_name.value_counts(), False, 0.5), axis=1)"
   ]
  },
  {
   "cell_type": "code",
   "execution_count": 85,
   "id": "5d626298-c5a6-4be3-a27d-b6709aee5590",
   "metadata": {},
   "outputs": [
    {
     "data": {
      "text/plain": [
       "0       <folium.vector_layers.CircleMarker object at 0...\n",
       "1       <folium.vector_layers.CircleMarker object at 0...\n",
       "2       <folium.vector_layers.CircleMarker object at 0...\n",
       "3       <folium.vector_layers.CircleMarker object at 0...\n",
       "4       <folium.vector_layers.CircleMarker object at 0...\n",
       "                              ...                        \n",
       "4536    <folium.vector_layers.CircleMarker object at 0...\n",
       "4537    <folium.vector_layers.CircleMarker object at 0...\n",
       "4538    <folium.vector_layers.CircleMarker object at 0...\n",
       "4539    <folium.vector_layers.CircleMarker object at 0...\n",
       "4540    <folium.vector_layers.CircleMarker object at 0...\n",
       "Length: 4541, dtype: object"
      ]
     },
     "execution_count": 85,
     "metadata": {},
     "output_type": "execute_result"
    }
   ],
   "source": [
    "startDt.apply(lambda x: folium.CircleMarker(\n",
    "                                location=[x.latitude, x.longitude],\n",
    "                                radius=1,\n",
    "                                popup=f'Price per night ${x.price}.\\nHost {x.host_name}',\n",
    "                                color=\"red\",\n",
    "                            ).add_to(start_group), axis=1)"
   ]
  },
  {
   "cell_type": "code",
   "execution_count": 86,
   "id": "09e33b63-4f01-4edc-a4e0-27fb278438a2",
   "metadata": {},
   "outputs": [
    {
     "data": {
      "text/plain": [
       "0       <folium.vector_layers.CircleMarker object at 0...\n",
       "1       <folium.vector_layers.CircleMarker object at 0...\n",
       "2       <folium.vector_layers.CircleMarker object at 0...\n",
       "3       <folium.vector_layers.CircleMarker object at 0...\n",
       "4       <folium.vector_layers.CircleMarker object at 0...\n",
       "                              ...                        \n",
       "3977    <folium.vector_layers.CircleMarker object at 0...\n",
       "3978    <folium.vector_layers.CircleMarker object at 0...\n",
       "3979    <folium.vector_layers.CircleMarker object at 0...\n",
       "3980    <folium.vector_layers.CircleMarker object at 0...\n",
       "3981    <folium.vector_layers.CircleMarker object at 0...\n",
       "Length: 3982, dtype: object"
      ]
     },
     "execution_count": 86,
     "metadata": {},
     "output_type": "execute_result"
    }
   ],
   "source": [
    "endDt.apply(lambda x: folium.CircleMarker(\n",
    "                                location=[x.latitude, x.longitude],\n",
    "                                radius=.5,\n",
    "                                popup=f'Price per night ${x.price}.\\nHost {x.host_name}',\n",
    "                                color=\"blue\",\n",
    "                            ).add_to(end_group), axis=1)"
   ]
  },
  {
   "cell_type": "code",
   "execution_count": 87,
   "id": "4a2d1a55-cf77-4f57-9a5e-21e5ac35301c",
   "metadata": {},
   "outputs": [],
   "source": [
    "# sbs = folium.plugins.SideBySideLayers(layer_left=start_group, layer_right=end_group)\n",
    "# sbs.add_to(map)\n",
    "colormap = branca.colormap.LinearColormap(colors=['blue', 'red'],vmin=min_weight, vmax=max_weight,)\n",
    "colormap.caption = '% of airbnb change'\n",
    "colormap.add_to(map)\n",
    "\n",
    "map.save('map.html')"
   ]
  },
  {
   "cell_type": "code",
   "execution_count": null,
   "id": "ef3d7b43-e4cf-4538-b4d7-a040df35b50b",
   "metadata": {},
   "outputs": [],
   "source": []
  },
  {
   "cell_type": "code",
   "execution_count": null,
   "id": "375159a7-54d7-47a2-8e6a-78dfc52a19ed",
   "metadata": {},
   "outputs": [],
   "source": []
  }
 ],
 "metadata": {
  "kernelspec": {
   "display_name": "Python 3 (ipykernel)",
   "language": "python",
   "name": "python3"
  },
  "language_info": {
   "codemirror_mode": {
    "name": "ipython",
    "version": 3
   },
   "file_extension": ".py",
   "mimetype": "text/x-python",
   "name": "python",
   "nbconvert_exporter": "python",
   "pygments_lexer": "ipython3",
   "version": "3.11.0"
  }
 },
 "nbformat": 4,
 "nbformat_minor": 5
}
