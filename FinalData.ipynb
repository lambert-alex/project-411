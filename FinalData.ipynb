{
 "cells": [
  {
   "cell_type": "code",
   "execution_count": 1,
   "id": "d9acb089-ecad-4c68-aa17-3f80736380ab",
   "metadata": {},
   "outputs": [],
   "source": [
    "import pandas as pd\n",
    "import geopandas as gpd\n",
    "import numpy as np\n",
    "import matplotlib.pyplot as plt\n",
    "import math\n",
    "import folium\n",
    "from folium import GeoJson"
   ]
  },
  {
   "cell_type": "code",
   "execution_count": 2,
   "id": "9e6e2190-0aa2-49d9-abfb-907155e6f479",
   "metadata": {},
   "outputs": [],
   "source": [
    "# try and reduce the amount of times you run this itll take forever.\n",
    "gdf = gpd.read_file('.\\output.geojson')"
   ]
  },
  {
   "cell_type": "code",
   "execution_count": 3,
   "id": "53aeec35-60b6-4467-af48-4c55e6edf339",
   "metadata": {},
   "outputs": [
    {
     "name": "stdout",
     "output_type": "stream",
     "text": [
      "check_date\n",
      "survey:date\n"
     ]
    }
   ],
   "source": [
    "def remove_times():\n",
    "    # use for error in folio TypeError: Object of type Timestamp is not JSON serializable\n",
    "    drop_ls = []\n",
    "    for c in gdf.columns:\n",
    "        # gns:n:xx:modify_date\n",
    "        # gns:v:xx:modify_date\n",
    "        if (\"time\" in c or \"date\" in c or \"hour\" in c):\n",
    "            print(c)\n",
    "            drop_ls.append(c)\n",
    "\n",
    "    return gdf.drop(drop_ls, axis=1)\n",
    "\n",
    "gdf = remove_times() # only use if you have an error with folium Geo.Json"
   ]
  },
  {
   "cell_type": "code",
   "execution_count": 4,
   "id": "8bde4f12-9148-495d-bd2d-c996c15d813f",
   "metadata": {},
   "outputs": [],
   "source": [
    "startDt = pd.read_csv(\".\\May2023.csv\")\n",
    "endDt = pd.read_csv(\".\\May2024.csv\")\n",
    "startDt['location'] = startDt.apply(lambda row: (row['latitude'], row['longitude']), axis=1)\n",
    "endDt['location'] = endDt.apply(lambda row: (row['latitude'], row['longitude']), axis=1)"
   ]
  },
  {
   "cell_type": "code",
   "execution_count": 5,
   "id": "89feeae8-b979-467f-99e6-34d829bdb947",
   "metadata": {},
   "outputs": [
    {
     "name": "stderr",
     "output_type": "stream",
     "text": [
      "C:\\Users\\Alex\\AppData\\Local\\Temp\\ipykernel_11348\\1912456642.py:31: DeprecationWarning: DataFrameGroupBy.apply operated on the grouping columns. This behavior is deprecated, and in a future version of pandas the grouping columns will be excluded from the operation. Either pass `include_groups=False` to exclude the groupings or explicitly select the grouping columns after groupby to silence this warning.\n",
      "  startDt.groupby(['neighbourhood_group']).apply(lambda group: get_center_loc(group=group, id=group.name, res_dic=result))\n"
     ]
    },
    {
     "data": {
      "text/plain": [
       "neighbourhood_group\n",
       "Central Saanich            (48.5790387262022, -123.43224583046444)\n",
       "Colwood                   (48.42056053099835, -123.49314834500264)\n",
       "Esquimalt                  (48.4327476950025, -123.40825038883719)\n",
       "Highlands                  (48.49759222145811, -123.5064005885147)\n",
       "Juan de Fuca             (48.450202069477285, -123.97807266932395)\n",
       "Langford                  (48.44891934602266, -123.51647680896993)\n",
       "Metchosin                 (48.38116826582552, -123.54185860487911)\n",
       "North Saanich             (48.65907421230939, -123.43781351793487)\n",
       "Oak Bay                   (48.43170969865602, -123.31458997323222)\n",
       "Saanich                  (48.477644462340436, -123.36273107107148)\n",
       "Salt Spring Island         (48.84870481330521, -123.5068431206925)\n",
       "Sidney                    (48.65489185867977, -123.40392673779033)\n",
       "Sooke                    (48.379830875237296, -123.71513428104477)\n",
       "Southern Gulf Islands      (48.8268471960932, -123.30783288457276)\n",
       "Victoria                 (48.425583673746864, -123.36249619900994)\n",
       "View Royal               (48.458684842943995, -123.44043331906914)\n",
       "dtype: object"
      ]
     },
     "execution_count": 5,
     "metadata": {},
     "output_type": "execute_result"
    }
   ],
   "source": [
    "# get the center of all unique munis\n",
    "\n",
    "def get_center_loc(group, id=None, res_dic=None):\n",
    "    # group is a data frame\n",
    "    # source http://www.geomidpoint.com/example.html\n",
    "    # gets the center lat lng\n",
    "    # assuming the earth is perfectly round\n",
    "    rads_lat = np.radians(group.latitude)\n",
    "    rads_lon = np.radians(group.longitude)\n",
    "    \n",
    "    # Convert lat/lon (radians) to Cartesian coordinates for each location.\n",
    "    X = np.cos(rads_lat) * np.cos(rads_lon)\n",
    "    Y = np.cos(rads_lat) * np.sin(rads_lon)\n",
    "    Z = np.sin(rads_lat)\n",
    "\n",
    "    #find average x, y, z coords\n",
    "    x = X.mean()\n",
    "    y = Y.mean()\n",
    "    z = Z.mean()\n",
    "\n",
    "    # Convert average x, y, z coordinate to latitude and longitude.\n",
    "    lng = math.atan2(y, x)\n",
    "    hyp = np.sqrt(x*x + y*y)\n",
    "    lat = math.atan2(z, hyp)\n",
    "    if res_dic:\n",
    "        res_dic[id] = (np.degrees(lat), np.degrees(lng))\n",
    "    else:\n",
    "        return (np.degrees(lat), np.degrees(lng))\n",
    "    \n",
    "result = {}\n",
    "startDt.groupby(['neighbourhood_group']).apply(lambda group: get_center_loc(group=group, id=group.name, res_dic=result))\n"
   ]
  },
  {
   "cell_type": "code",
   "execution_count": 6,
   "id": "8e5deff6-569f-499a-8b0c-022767845101",
   "metadata": {},
   "outputs": [],
   "source": [
    "# break up all the startDt data into single owners and multi owners\n",
    "start_count = startDt.host_id.value_counts()\n",
    "multi_start = startDt[startDt.host_id.isin(start_count.index[start_count.gt(1)])]\n",
    "single_start = startDt[startDt.host_id.isin(start_count.index[start_count.lt(2)])]\n",
    "\n",
    "# break up all endDt data into multi owners and single owners\n",
    "end_count = endDt.host_id.value_counts()\n",
    "multi_end = endDt[endDt.host_id.isin(end_count.index[end_count.gt(1)])]\n",
    "single_end = endDt[endDt.host_id.isin(end_count.index[end_count.lt(2)])]"
   ]
  },
  {
   "cell_type": "code",
   "execution_count": 7,
   "id": "f161c597-b93d-4f49-873e-2c24fd0ec4b6",
   "metadata": {},
   "outputs": [
    {
     "name": "stderr",
     "output_type": "stream",
     "text": [
      "C:\\Users\\Alex\\AppData\\Local\\Temp\\ipykernel_11348\\304606603.py:3: SettingWithCopyWarning: \n",
      "A value is trying to be set on a copy of a slice from a DataFrame.\n",
      "Try using .loc[row_indexer,col_indexer] = value instead\n",
      "\n",
      "See the caveats in the documentation: https://pandas.pydata.org/pandas-docs/stable/user_guide/indexing.html#returning-a-view-versus-a-copy\n",
      "  multi_start['mean_price'] = multi_start.groupby(['host_id']).price.transform('mean')\n",
      "C:\\Users\\Alex\\AppData\\Local\\Temp\\ipykernel_11348\\304606603.py:4: SettingWithCopyWarning: \n",
      "A value is trying to be set on a copy of a slice from a DataFrame.\n",
      "Try using .loc[row_indexer,col_indexer] = value instead\n",
      "\n",
      "See the caveats in the documentation: https://pandas.pydata.org/pandas-docs/stable/user_guide/indexing.html#returning-a-view-versus-a-copy\n",
      "  multi_end['mean_price'] = multi_end.groupby(['host_id']).price.transform('mean')\n"
     ]
    }
   ],
   "source": [
    "# get mean price grouped by host_id\n",
    "# values tracking multi_start, multi_end, single_start, single_end, singleDt, endDt\n",
    "multi_start['mean_price'] = multi_start.groupby(['host_id']).price.transform('mean')\n",
    "multi_end['mean_price'] = multi_end.groupby(['host_id']).price.transform('mean')"
   ]
  },
  {
   "cell_type": "code",
   "execution_count": 94,
   "id": "b4d54140-df8b-4b8e-9f22-f811fd6e3b21",
   "metadata": {},
   "outputs": [
    {
     "name": "stderr",
     "output_type": "stream",
     "text": [
      "C:\\Users\\Alex\\AppData\\Local\\Temp\\ipykernel_11348\\1683895927.py:35: DeprecationWarning: DataFrameGroupBy.apply operated on the grouping columns. This behavior is deprecated, and in a future version of pandas the grouping columns will be excluded from the operation. Either pass `include_groups=False` to exclude the groupings or explicitly select the grouping columns after groupby to silence this warning.\n",
      "  center = df.groupby(['host_name']).apply(get_center_loc)\n",
      "C:\\Users\\Alex\\AppData\\Local\\Temp\\ipykernel_11348\\1683895927.py:35: DeprecationWarning: DataFrameGroupBy.apply operated on the grouping columns. This behavior is deprecated, and in a future version of pandas the grouping columns will be excluded from the operation. Either pass `include_groups=False` to exclude the groupings or explicitly select the grouping columns after groupby to silence this warning.\n",
      "  center = df.groupby(['host_name']).apply(get_center_loc)\n"
     ]
    },
    {
     "data": {
      "text/plain": [
       "447"
      ]
     },
     "execution_count": 94,
     "metadata": {},
     "output_type": "execute_result"
    }
   ],
   "source": [
    "from folium.plugins import HeatMap\n",
    "map = folium.Map(location=get_center_loc(startDt), prefer_canvas=True, tiles=\"cartodb positron\", zoom_start=9)\n",
    "\n",
    "multi_end.apply(lambda x: folium.CircleMarker(\n",
    "                                location=[x.latitude, x.longitude],\n",
    "                                radius=2,\n",
    "                                popup=x.price,\n",
    "                                color=\"red\",\n",
    "                            ).add_to(map), axis=1)\n",
    "\n",
    "single_end.apply(lambda x: folium.CircleMarker(\n",
    "                                location=[x.latitude, x.longitude],\n",
    "                                radius=2,\n",
    "                                popup=x.price,\n",
    "                                color=\"blue\",\n",
    "                            ).add_to(map), axis=1)\n",
    "\n",
    "    \n",
    "\n",
    "# get real center for group listings\n",
    "# this function could be cleaned up\n",
    "def get_group_center(group, center):\n",
    "    i = 0\n",
    "    for index, row in group.iterrows():\n",
    "        if i == 0:\n",
    "            closest = (row.latitude, row.longitude)\n",
    "            i += 1\n",
    "        if abs(row.latitude - center[row.host_name][0] + row.longitude - center[row.host_name][1]) < abs(closest[0]-center[row.host_name][0] + closest[1]-center[row.host_name][1]):\n",
    "            closest = (row.latitude, row.longitude)\n",
    "    return closest\n",
    "\n",
    "# find closest to center listing\n",
    "def find_center_listing(df):\n",
    "    center_listing = {}\n",
    "    center = df.groupby(['host_name']).apply(get_center_loc)\n",
    "    for host in df.host_name.unique():\n",
    "        center_listing[host] = get_group_center(df[df.host_name == host], center)\n",
    "    \n",
    "    return center_listing\n",
    "\n",
    "multi_start_centers = find_center_listing(multi_start)\n",
    "multi_end_centers = find_center_listing(multi_end)\n",
    "\n",
    "\n",
    "set(multi_start_centers) ^  set(multi_end_centers))\n",
    "\n",
    "# test\n",
    "# HeatMap(data=startDt.locations.tolist()).add_to(map)\n",
    "\n",
    "# folium.LayerControl().add_to(map)\n",
    "                                \n",
    "# map"
   ]
  },
  {
   "cell_type": "code",
   "execution_count": 256,
   "id": "35104209-420a-4fe1-94ea-b3c8fc59db61",
   "metadata": {},
   "outputs": [
    {
     "name": "stderr",
     "output_type": "stream",
     "text": [
      "C:\\Users\\Alex\\AppData\\Local\\Temp\\ipykernel_3164\\1020284990.py:7: DeprecationWarning: DataFrameGroupBy.apply operated on the grouping columns. This behavior is deprecated, and in a future version of pandas the grouping columns will be excluded from the operation. Either pass `include_groups=False` to exclude the groupings or explicitly select the grouping columns after groupby to silence this warning.\n",
      "  center = c.groupby(['host_name']).apply(get_center_loc)\n"
     ]
    },
    {
     "data": {
      "text/plain": [
       "<pandas.core.groupby.generic.DataFrameGroupBy object at 0x000001ACD03FC2D0>"
      ]
     },
     "execution_count": 256,
     "metadata": {},
     "output_type": "execute_result"
    }
   ],
   "source": [
    "c= pd.DataFrame({\n",
    "  \"host_name\": ['a','a','b'],\n",
    "  \"latitude\": [1, 2, 3],\n",
    "  \"longitude\": [10, 20, 30]\n",
    "})\n",
    "\n",
    "center = c.groupby(['host_name']).apply(get_center_loc)\n",
    "c.groupby(['host_name']).apply(get_group_center, "
   ]
  },
  {
   "cell_type": "code",
   "execution_count": null,
   "id": "e3358316-6c1d-4e5f-a43c-f33ceb80f57a",
   "metadata": {},
   "outputs": [],
   "source": []
  }
 ],
 "metadata": {
  "kernelspec": {
   "display_name": "Python 3 (ipykernel)",
   "language": "python",
   "name": "python3"
  },
  "language_info": {
   "codemirror_mode": {
    "name": "ipython",
    "version": 3
   },
   "file_extension": ".py",
   "mimetype": "text/x-python",
   "name": "python",
   "nbconvert_exporter": "python",
   "pygments_lexer": "ipython3",
   "version": "3.11.0"
  }
 },
 "nbformat": 4,
 "nbformat_minor": 5
}
